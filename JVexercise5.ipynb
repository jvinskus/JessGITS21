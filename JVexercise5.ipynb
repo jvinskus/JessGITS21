{
 "cells": [
  {
   "cell_type": "code",
   "execution_count": 1,
   "metadata": {},
   "outputs": [],
   "source": [
    "def distance():\n",
    "    import math \n",
    "    radius = 6371\n",
    "    org= input(\"Input the name of your origin: \")\n",
    "    dest= input('Input the name of your destination: ')\n",
    "    lat1= input('Input the latitude coordinate in decimal degrees of your origin: ')\n",
    "    lon1 = input ('Input the longitude coordinate in decimal degrees of your origin: ')\n",
    "    lat2= input ('Input the latitude coordinate in decimal degrees of your destination: ')\n",
    "    lon2= input ('Input the longitude coordinate in decimal degrees of your destination: ')\n",
    "    rlat1= float(lat1)*(math.pi/180)\n",
    "    rlon1= float(lon1)*(math.pi/180)\n",
    "    rlat2= float(lat2)*(math.pi/180)\n",
    "    rlon2= float(lon2)*(math.pi/180)\n",
    "    latd =rlat1-rlat2\n",
    "    lond= rlon1-rlon2\n",
    "    a= math.sin(latd/2)**2+math.cos(rlat1)*math.cos(rlat2)*math.sin(lond/2)**2\n",
    "    c=2*math.atan2(math.sqrt(a), math.sqrt(1-a))\n",
    "    d= radius *c\n",
    "    dmiles= round(d*0.621371, 2)\n",
    "    return (f' The distance between {org} and {dest} is {dmiles} miles!')"
   ]
  },
  {
   "cell_type": "code",
   "execution_count": 2,
   "metadata": {},
   "outputs": [],
   "source": [
    "cmu= [40.4426491, -79.9422358]\n",
    "arc= [48.8730914, 2.29718595]\n",
    "dole= [21.5184927, -158.038074]"
   ]
  },
  {
   "cell_type": "code",
   "execution_count": 3,
   "metadata": {},
   "outputs": [
    {
     "name": "stdout",
     "output_type": "stream",
     "text": [
      "Input the name of your origin: Carnegie Mellon University\n",
      "Input the name of your destination: The Arc de Triomphe\n",
      "Input the latitude coordinate in decimal degrees of your origin: 40.4426491\n",
      "Input the longitude coordinate in decimal degrees of your origin: -79.9422358\n",
      "Input the latitude coordinate in decimal degrees of your destination: 48.8730914\n",
      "Input the longitude coordinate in decimal degrees of your destination: 2.29718595\n"
     ]
    },
    {
     "data": {
      "text/plain": [
       "' The distance between Carnegie Mellon University and The Arc de Triomphe is 3883.4 miles!'"
      ]
     },
     "execution_count": 3,
     "metadata": {},
     "output_type": "execute_result"
    }
   ],
   "source": [
    "distance()"
   ]
  },
  {
   "cell_type": "code",
   "execution_count": 6,
   "metadata": {},
   "outputs": [
    {
     "name": "stdout",
     "output_type": "stream",
     "text": [
      "Input the name of your origin: The Arc de Triomphe \n",
      "Input the name of your destination: The Dole Plantation\n",
      "Input the latitude coordinate in decimal degrees of your origin: 48.8730914\n",
      "Input the longitude coordinate in decimal degrees of your origin: 2.29718595\n",
      "Input the latitude coordinate in decimal degrees of your destination: 21.5184927\n",
      "Input the longitude coordinate in decimal degrees of your destination: -158.038074\n"
     ]
    },
    {
     "data": {
      "text/plain": [
       "' The distance between The Arc de Triomphe  and The Dole Plantation is 7424.2 miles!'"
      ]
     },
     "execution_count": 6,
     "metadata": {},
     "output_type": "execute_result"
    }
   ],
   "source": [
    "distance()"
   ]
  },
  {
   "cell_type": "code",
   "execution_count": 5,
   "metadata": {},
   "outputs": [
    {
     "name": "stdout",
     "output_type": "stream",
     "text": [
      "Input the name of your origin: The Dole Plantation\n",
      "Input the name of your destination: Carnegie Mellon University\n",
      "Input the latitude coordinate in decimal degrees of your origin: 21.5184927\n",
      "Input the longitude coordinate in decimal degrees of your origin: -158.038074\n",
      "Input the latitude coordinate in decimal degrees of your destination: 40.4426491\n",
      "Input the longitude coordinate in decimal degrees of your destination: -79.9422358\n"
     ]
    },
    {
     "data": {
      "text/plain": [
       "' The distance between The Dole Plantation and Carnegie Mellon University is 4658.22 miles!'"
      ]
     },
     "execution_count": 5,
     "metadata": {},
     "output_type": "execute_result"
    }
   ],
   "source": [
    "distance()"
   ]
  },
  {
   "cell_type": "code",
   "execution_count": null,
   "metadata": {},
   "outputs": [],
   "source": []
  }
 ],
 "metadata": {
  "kernelspec": {
   "display_name": "Python 3",
   "language": "python",
   "name": "python3"
  },
  "language_info": {
   "codemirror_mode": {
    "name": "ipython",
    "version": 3
   },
   "file_extension": ".py",
   "mimetype": "text/x-python",
   "name": "python",
   "nbconvert_exporter": "python",
   "pygments_lexer": "ipython3",
   "version": "3.8.5"
  }
 },
 "nbformat": 4,
 "nbformat_minor": 4
}
