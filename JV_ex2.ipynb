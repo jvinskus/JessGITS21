{
 "cells": [
  {
   "cell_type": "markdown",
   "metadata": {},
   "source": [
    "# West Bridgewater, Massachusetts\n",
    "[Source](https://en.wikipedia.org/wiki/West_Bridgewater,_Massachusetts)\n",
    "Disclaimer: All materials are for demonstration purposes only. \n",
    "\n",
    "\n",
    "**West Bridgewater** is a town in Plymouth County, Massachusetts, United States. The population was 6,916 at the 2010 census.[1]\n",
    "\n",
    "![townhall](TownHall.jpg)\n",
    "[Source: T.S Custadio](https://en.wikipedia.org/wiki/West_Bridgewater,_Massachusetts#/media/File:West_Bridgewater_Town_Hall.JPG)\n"
   ]
  },
  {
   "cell_type": "markdown",
   "metadata": {},
   "source": [
    "## History\n",
    "West Bridgewater was first settled in 1651 as a part of Olde Bridgewater. The town separated from Bridgewater, Massachusetts and was officially incorporated in 1822, the second of the three communities to separate from Bridgewater (after North Bridgewater, now Brockton, and before East Bridgewater) over the span of three years. The town, like many in the area, had both agrarian and industrial roots; the Town River provided water power for milling and irrigation for farming. The town is home to the Keith House (1662), the oldest standing parsonage in the U.S. The town is also believed to be the site of the first industrial park in the U.S., now the site of the Town Park. The original Ames Shovel Works was located in the Town Park. Today, the town is mostly residential."
   ]
  },
  {
   "cell_type": "markdown",
   "metadata": {},
   "source": [
    "![townseal](https://upload.wikimedia.org/wikipedia/en/6/6a/WestBridgewaterMA-seal.png)"
   ]
  },
  {
   "cell_type": "markdown",
   "metadata": {},
   "source": [
    "## Geography\n",
    "\n",
    "![Town River](https://upload.wikimedia.org/wikipedia/commons/thumb/e/e9/A_field_on_the_Town_River%2C_West_Bridgewater_MA.jpg/800px-A_field_on_the_Town_River%2C_West_Bridgewater_MA.jpg)\n",
    "[Source: John Phelan](https://en.wikipedia.org/wiki/West_Bridgewater,_Massachusetts#/media/File:A_field_on_the_Town_River,_West_Bridgewater_MA.jpg)\n",
    "\n",
    "According to the United States Census Bureau, the town has a total area of 15.7 square miles (40.6 km2), of which 15.3 square miles (39.7 km2) is land and 0.35 square miles (0.9 km2), or 2.25%, is water.[2] The town ranks 238th of 351 communities in the Commonwealth in terms of land area, and ranks nineteenth out of the twenty-seven towns in Plymouth County. West Bridgewater is bordered by Brockton to the north, East Bridgewater to the east, Bridgewater to the south, and Easton to the west, as well as a small section (less than a quarter of a mile long) of the southwestern corner that borders the town of Raynham. West Bridgewater's town center is approximately 4 miles (6.4 km) south of the center of Brockton, and is 25 miles (40 km) south of Boston.\n",
    "\n",
    "West Bridgewater lies along the northeast edge of the Hockomock Swamp, with a large section of the southwestern corner of town being covered by the swamp and its wildlife management area. There are also several other protected areas throughout the town, as well as several parks and a large pond surrounded by a state forest. The Town River also passes through the southern portion of town, branching off into several brooks throughout the town, as does the Salisbury River in the northeast corner of town."
   ]
  },
  {
   "cell_type": "markdown",
   "metadata": {},
   "source": [
    "## Transportation\n",
    "Massachusetts Route 24 passes through the western half of town, with an exit at Route 106. Route 106 passes from east to west in the town, and meets at the center of town with Route 28. The Middleborough/Lakeville Line of the MBTA's commuter rail service passes through town, between the towns of Middleborough and Lakeville and South Station in Boston. There are no stops in West Bridgewater, but there are stops in Bridgewater and the Campello section of Brockton. There are no airports in the town; there are small strips in nearby Taunton and Mansfield, but the nearest national air service is at Logan International Airport in Boston. The town used to have rail service at Matfield Junction, Cochesett station. Matfield Junction was on the Middleborough branch of the Old Colony line, and Cochsett was on the Easton railroad branch; both were abandoned in the 1930s."
   ]
  },
  {
   "cell_type": "markdown",
   "metadata": {},
   "source": [
    "## Demographics\n",
    "As of the census[13] of 2000, there were 6,634 people, 2,444 households, and 1,796 families residing in the town. The population density was 421.5 people per square mile (162.7/km2). There were 2,510 housing units at an average density of 159.5 per square mile (61.6/km2). The racial makeup of the town was 96.40% White, 0.95% African American, 0.26% Native American, 0.68% Asian, 0.45% from other races, and 1.27% from two or more races. Hispanic or Latino of any race were 1.01% of the population.\n",
    "\n",
    "There were 2,444 households, out of which 31.1% had children under the age of 18 living with them, 59.9% were married couples living together, 9.8% had a female householder with no husband present, and 26.5% were non-families. 21.7% of all households were made up of individuals, and 11.1% had someone living alone who was 65 years of age or older. The average household size was 2.66 and the average family size was 3.11. In the town, the population was spread out, with 22.7% under the age of 18, 6.7% from 18 to 24, 28.0% from 25 to 44, 24.7% from 45 to 64, and 17.8% who were 65 years of age or older. The median age was 40 years. For every 100 females, there were 95.7 males. For every 100 females age 18 and over, there were 90.9 males.\n",
    "\n",
    "The median income for a household in the town was \\\\$55,958, and the median income for a family was \\\\$64,815. Males had a median income of \\\\$41,863 versus \\$31,835 for females. The per capita income for the town was \\\\$23,701. About 2.0\\% of families and 3.6\\% of the population were below the poverty line, including 0.5\\% of those under age 18 and 6.3\\% of those age 65 or over.\n"
   ]
  },
  {
   "cell_type": "markdown",
   "metadata": {},
   "source": [
    "## Government\n",
    "On the national level, West Bridgewater is a part of Massachusetts's 8th congressional district, and has been represented since 2001 by Stephen Lynch.\n",
    "\n",
    "On the state level, West Bridgewater is represented in the Massachusetts House of Representatives as a part of the Tenth Plymouth district, which includes portions of Brockton and East Bridgewater. The town is represented in the Massachusetts Senate as a part of the Norfolk, Bristol and Plymouth district, which includes all or parts of Avon, Braintree, Canton, East Bridgewater, Easton, Milton, Randolph, Sharon and Stoughton.[14] The town is patrolled by the Fourth (Middleborough) Barracks of Troop D of the Massachusetts State Police.[15]\n",
    "\n",
    "West Bridgewater is governed on the local level by the open town meeting form of government, led by the town moderator and a board of selectmen. The current town moderator is Jason Ross; the youngest Town Moderator in Massachusetts. The current board of selectmen consists of Eldon Moreira, Anthony Kinahan, and Denise Reyes.\n",
    "\n",
    "The town operates its own police and fire departments, both of which are headquartered together on Route 106 just west of Route 28. The fire department also has an ambulance service, bringing emergency room patients to either Brockton Hospital or Caritas Good Samaritan Hospital in Brockton. The town has its own post office, located on Route 28 across the street from the town hall. West Bridgewater Public Library is located around the corner from the post office, and is a member of the SAILS Library Network."
   ]
  },
  {
   "cell_type": "markdown",
   "metadata": {},
   "source": [
    "## Education\n",
    "West Bridgewater operates its own school system for its approximately 1,220 students. The Spring Street School, not far from the town center, serves pre-kindergarten and kindergarten students. The Rose L. MacDonald School, located closer to the geographic center of the town, serves first, second and third grade students. The Howard School, between the post office and the library, serves fourth, fifth and sixth grade students. The West Bridgewater Middle-Senior High School, located along Route 106, serves students from grades 7-12. West Bridgewater's athletics teams are known as the Wildcats, and their colors are maroon and white. The football team plays Holbrook-Avon for its Thanksgiving Day football game, having recently ended its tradition of playing Freetown-Lakeville's Apponequet high school. Before that East Bridgewater had been the original rival.\n",
    "\n",
    "In addition to the high school, students may choose to attend Southeastern Regional Vocational Technical High School in South Easton free of charge. The town is also home to the New England Baptist Academy, a private Christian school serving all grades. There are also other private schools in neighboring Bridgewater and Brockton. The nearest colleges are Massasoit Community College in Brockton, Stonehill College in Easton, and Bridgewater State University."
   ]
  },
  {
   "cell_type": "markdown",
   "metadata": {},
   "source": [
    "## Notable people\n",
    "* Cyrus Alger (1781–1856), inventor, owner of the shop which produced the first rifled gun[16][17]\n",
    "* Spike Feresten, talk show host on Fox, writer for the Late Show with David Letterman, writer for Seinfeld, who wrote the infamous Soup Nazi episode.\n",
    "* Jack Gallagher, Nationally known comedian, TV Host (MoneyTrack on PBS) and Playwright. Author of five critically acclaimed one-man shows. \"Letters To Declan\", \"Just The Guy\", \"What He Left\", \"A Different Kind Of Cool\" and \"Complete and Unfinished.\"\n",
    "* Hastings Keith, (November 22, 1915 – July 19, 2005) was a United States Representative from Massachusetts.\n",
    "* Parker McGettrick, (April 19,2001-) was a literal icon"
   ]
  },
  {
   "cell_type": "code",
   "execution_count": null,
   "metadata": {},
   "outputs": [],
   "source": []
  }
 ],
 "metadata": {
  "kernelspec": {
   "display_name": "Python 3",
   "language": "python",
   "name": "python3"
  },
  "language_info": {
   "codemirror_mode": {
    "name": "ipython",
    "version": 3
   },
   "file_extension": ".py",
   "mimetype": "text/x-python",
   "name": "python",
   "nbconvert_exporter": "python",
   "pygments_lexer": "ipython3",
   "version": "3.8.5"
  }
 },
 "nbformat": 4,
 "nbformat_minor": 4
}
