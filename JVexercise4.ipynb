{
 "cells": [
  {
   "cell_type": "code",
   "execution_count": 3,
   "metadata": {},
   "outputs": [],
   "source": [
    "city= ['Seattle', 'San Francisco',  'Los Angeles', 'Denver', 'Salt Lake City', \"Phoenix\", 'Chicago', \"St. Louis\", \"Dallas\", 'Boston', \"Washington D.C.\", \"Miami\"]\n",
    "totaldays = [ 306,314,275,366,366,366,366,366,306,306, 366, 275]\n",
    "poordays = [14,22,119,34,21,70,28,10,24,0,3,2]\n",
    "aqimed = [42,45,81,58,50,75,56,52,49,42,42,44]\n",
    "zone=['west', 'west', 'west', 'mountain', 'mountain', 'mountain','central', 'central', 'central', 'east', 'east', 'east']"
   ]
  },
  {
   "cell_type": "code",
   "execution_count": 10,
   "metadata": {},
   "outputs": [
    {
     "data": {
      "text/plain": [
       "53.0"
      ]
     },
     "execution_count": 10,
     "metadata": {},
     "output_type": "execute_result"
    }
   ],
   "source": [
    "aqimedavg = sum(aqimed)/len(aqimed)\n",
    "aqimedavg"
   ]
  },
  {
   "cell_type": "code",
   "execution_count": 11,
   "metadata": {},
   "outputs": [
    {
     "data": {
      "text/plain": [
       "331.5"
      ]
     },
     "execution_count": 11,
     "metadata": {},
     "output_type": "execute_result"
    }
   ],
   "source": [
    "avgtdays=sum(totaldays)/len(totaldays)\n",
    "avgtdays"
   ]
  },
  {
   "cell_type": "code",
   "execution_count": 14,
   "metadata": {},
   "outputs": [
    {
     "data": {
      "text/plain": [
       "28.916666666666668"
      ]
     },
     "execution_count": 14,
     "metadata": {},
     "output_type": "execute_result"
    }
   ],
   "source": [
    "avgpdays = sum(poordays)/len(poordays)\n",
    "avgpdays"
   ]
  },
  {
   "cell_type": "code",
   "execution_count": 15,
   "metadata": {},
   "outputs": [],
   "source": [
    "import pandas as pd\n",
    "aqistats= pd.DataFrame({'City':city, 'Total Days':totaldays, 'Poor Days':poordays, 'AQI Median':aqimed, 'Zone':zone})"
   ]
  },
  {
   "cell_type": "code",
   "execution_count": 16,
   "metadata": {},
   "outputs": [
    {
     "data": {
      "text/html": [
       "<div>\n",
       "<style scoped>\n",
       "    .dataframe tbody tr th:only-of-type {\n",
       "        vertical-align: middle;\n",
       "    }\n",
       "\n",
       "    .dataframe tbody tr th {\n",
       "        vertical-align: top;\n",
       "    }\n",
       "\n",
       "    .dataframe thead th {\n",
       "        text-align: right;\n",
       "    }\n",
       "</style>\n",
       "<table border=\"1\" class=\"dataframe\">\n",
       "  <thead>\n",
       "    <tr style=\"text-align: right;\">\n",
       "      <th></th>\n",
       "      <th>City</th>\n",
       "      <th>Total Days</th>\n",
       "      <th>Poor Days</th>\n",
       "      <th>AQI Median</th>\n",
       "      <th>Zone</th>\n",
       "    </tr>\n",
       "  </thead>\n",
       "  <tbody>\n",
       "    <tr>\n",
       "      <th>0</th>\n",
       "      <td>Seattle</td>\n",
       "      <td>306</td>\n",
       "      <td>14</td>\n",
       "      <td>42</td>\n",
       "      <td>west</td>\n",
       "    </tr>\n",
       "    <tr>\n",
       "      <th>1</th>\n",
       "      <td>San Francisco</td>\n",
       "      <td>314</td>\n",
       "      <td>22</td>\n",
       "      <td>45</td>\n",
       "      <td>west</td>\n",
       "    </tr>\n",
       "    <tr>\n",
       "      <th>2</th>\n",
       "      <td>Los Angeles</td>\n",
       "      <td>275</td>\n",
       "      <td>119</td>\n",
       "      <td>81</td>\n",
       "      <td>west</td>\n",
       "    </tr>\n",
       "    <tr>\n",
       "      <th>3</th>\n",
       "      <td>Denver</td>\n",
       "      <td>366</td>\n",
       "      <td>34</td>\n",
       "      <td>58</td>\n",
       "      <td>mountain</td>\n",
       "    </tr>\n",
       "    <tr>\n",
       "      <th>4</th>\n",
       "      <td>Salt Lake City</td>\n",
       "      <td>366</td>\n",
       "      <td>21</td>\n",
       "      <td>50</td>\n",
       "      <td>mountain</td>\n",
       "    </tr>\n",
       "    <tr>\n",
       "      <th>5</th>\n",
       "      <td>Phoenix</td>\n",
       "      <td>366</td>\n",
       "      <td>70</td>\n",
       "      <td>75</td>\n",
       "      <td>mountain</td>\n",
       "    </tr>\n",
       "    <tr>\n",
       "      <th>6</th>\n",
       "      <td>Chicago</td>\n",
       "      <td>366</td>\n",
       "      <td>28</td>\n",
       "      <td>56</td>\n",
       "      <td>central</td>\n",
       "    </tr>\n",
       "    <tr>\n",
       "      <th>7</th>\n",
       "      <td>St. Louis</td>\n",
       "      <td>366</td>\n",
       "      <td>10</td>\n",
       "      <td>52</td>\n",
       "      <td>central</td>\n",
       "    </tr>\n",
       "    <tr>\n",
       "      <th>8</th>\n",
       "      <td>Dallas</td>\n",
       "      <td>306</td>\n",
       "      <td>24</td>\n",
       "      <td>49</td>\n",
       "      <td>central</td>\n",
       "    </tr>\n",
       "    <tr>\n",
       "      <th>9</th>\n",
       "      <td>Boston</td>\n",
       "      <td>306</td>\n",
       "      <td>0</td>\n",
       "      <td>42</td>\n",
       "      <td>east</td>\n",
       "    </tr>\n",
       "    <tr>\n",
       "      <th>10</th>\n",
       "      <td>Washington D.C.</td>\n",
       "      <td>366</td>\n",
       "      <td>3</td>\n",
       "      <td>42</td>\n",
       "      <td>east</td>\n",
       "    </tr>\n",
       "    <tr>\n",
       "      <th>11</th>\n",
       "      <td>Miami</td>\n",
       "      <td>275</td>\n",
       "      <td>2</td>\n",
       "      <td>44</td>\n",
       "      <td>east</td>\n",
       "    </tr>\n",
       "  </tbody>\n",
       "</table>\n",
       "</div>"
      ],
      "text/plain": [
       "               City  Total Days  Poor Days  AQI Median      Zone\n",
       "0           Seattle         306         14          42      west\n",
       "1     San Francisco         314         22          45      west\n",
       "2       Los Angeles         275        119          81      west\n",
       "3            Denver         366         34          58  mountain\n",
       "4    Salt Lake City         366         21          50  mountain\n",
       "5           Phoenix         366         70          75  mountain\n",
       "6           Chicago         366         28          56   central\n",
       "7         St. Louis         366         10          52   central\n",
       "8            Dallas         306         24          49   central\n",
       "9            Boston         306          0          42      east\n",
       "10  Washington D.C.         366          3          42      east\n",
       "11            Miami         275          2          44      east"
      ]
     },
     "execution_count": 16,
     "metadata": {},
     "output_type": "execute_result"
    }
   ],
   "source": [
    "aqistats\n"
   ]
  },
  {
   "cell_type": "code",
   "execution_count": null,
   "metadata": {},
   "outputs": [],
   "source": []
  }
 ],
 "metadata": {
  "kernelspec": {
   "display_name": "Python 3",
   "language": "python",
   "name": "python3"
  },
  "language_info": {
   "codemirror_mode": {
    "name": "ipython",
    "version": 3
   },
   "file_extension": ".py",
   "mimetype": "text/x-python",
   "name": "python",
   "nbconvert_exporter": "python",
   "pygments_lexer": "ipython3",
   "version": "3.8.5"
  }
 },
 "nbformat": 4,
 "nbformat_minor": 4
}
